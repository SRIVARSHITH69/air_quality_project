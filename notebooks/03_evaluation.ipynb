{
 "cells": [
  {
   "cell_type": "code",
   "execution_count": null,
   "id": "68f597c2",
   "metadata": {},
   "outputs": [],
   "source": [
    "import pandas as pd\n",
    "from sklearn.metrics import mean_absolute_error, mean_squared_error, r2_score\n",
    "import matplotlib.pyplot as plt\n",
    "import joblib"
   ]
  },
  {
   "cell_type": "code",
   "execution_count": null,
   "id": "3512aae0",
   "metadata": {},
   "outputs": [],
   "source": [
    "df = pd.read_csv(\"../data/processed/cleaned_AQI.csv\")"
   ]
  },
  {
   "cell_type": "code",
   "execution_count": null,
   "id": "bd1d1747",
   "metadata": {},
   "outputs": [],
   "source": [
    "X = df[[\"PM10\", \"NO2\", \"SO2\", \"CO\", \"OZONE\", \"NH3\"]]\n",
    "y = df[\"PM2.5\"]"
   ]
  },
  {
   "cell_type": "code",
   "execution_count": null,
   "id": "bc682a9f",
   "metadata": {},
   "outputs": [],
   "source": [
    "model = joblib.load(\"../models/air_quality_model.pkl\")"
   ]
  },
  {
   "cell_type": "code",
   "execution_count": null,
   "id": "1ff5f12a",
   "metadata": {},
   "outputs": [],
   "source": [
    "y_pred = model.predict(X)"
   ]
  },
  {
   "cell_type": "code",
   "execution_count": null,
   "id": "7dc22865",
   "metadata": {},
   "outputs": [],
   "source": [
    "mae = mean_absolute_error(y, y_pred)\n",
    "mse = mean_squared_error(y, y_pred)\n",
    "r2 = r2_score(y, y_pred)"
   ]
  },
  {
   "cell_type": "code",
   "execution_count": null,
   "id": "4ec5bc7e",
   "metadata": {},
   "outputs": [],
   "source": [
    "print(f\"Mean Absolute Error: {mae}\")\n",
    "print(f\"Mean Squared Error: {mse}\")\n",
    "print(f\"R² Score: {r2}\")"
   ]
  },
  {
   "cell_type": "code",
   "execution_count": null,
   "id": "980ecfab",
   "metadata": {},
   "outputs": [],
   "source": [
    "plt.scatter(y, y_pred, alpha=0.5)\n",
    "plt.xlabel(\"Actual PM2.5\")\n",
    "plt.ylabel(\"Predicted PM2.5\")\n",
    "plt.title(\"Actual vs Predicted PM2.5\")\n",
    "plt.show()"
   ]
  }
 ],
 "metadata": {
  "kernelspec": {
   "display_name": ".venv",
   "language": "python",
   "name": "python3"
  },
  "language_info": {
   "codemirror_mode": {
    "name": "ipython",
    "version": 3
   },
   "file_extension": ".py",
   "mimetype": "text/x-python",
   "name": "python",
   "nbconvert_exporter": "python",
   "pygments_lexer": "ipython3",
   "version": "3.12.3"
  }
 },
 "nbformat": 4,
 "nbformat_minor": 5
}
