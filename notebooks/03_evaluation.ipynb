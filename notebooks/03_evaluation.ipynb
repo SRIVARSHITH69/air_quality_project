{
 "cells": [
  {
   "cell_type": "code",
   "execution_count": null,
   "id": "d7f2f930",
   "metadata": {
    "vscode": {
     "languageId": "plaintext"
    }
   },
   "outputs": [],
   "source": [
    "import pandas as pd\n",
    "from sklearn.metrics import mean_absolute_error, mean_squared_error, r2_score\n",
    "import matplotlib.pyplot as plt\n",
    "import joblib\n",
    "\n",
    "df = pd.read_csv(\"../data/processed/cleaned_AQI.csv\")\n",
    "\n",
    "X = df[[\"PM10\", \"NO2\", \"SO2\", \"CO\", \"OZONE\", \"NH3\"]]\n",
    "y = df[\"PM2.5\"]\n",
    "\n",
    "model = joblib.load(\"../models/air_quality_model.pkl\")\n",
    "\n",
    "y_pred = model.predict(X)\n",
    "\n",
    "mae = mean_absolute_error(y, y_pred)\n",
    "mse = mean_squared_error(y, y_pred)\n",
    "r2 = r2_score(y, y_pred)\n",
    "\n",
    "print(f\"Mean Absolute Error: {mae}\")\n",
    "print(f\"Mean Squared Error: {mse}\")\n",
    "print(f\"R² Score: {r2}\")\n",
    "\n",
    "plt.scatter(y, y_pred, alpha=0.5)\n",
    "plt.xlabel(\"Actual PM2.5\")\n",
    "plt.ylabel(\"Predicted PM2.5\")\n",
    "plt.title(\"Actual vs Predicted PM2.5\")\n",
    "plt.show()\n"
   ]
  }
 ],
 "metadata": {
  "language_info": {
   "name": "python"
  }
 },
 "nbformat": 4,
 "nbformat_minor": 5
}
