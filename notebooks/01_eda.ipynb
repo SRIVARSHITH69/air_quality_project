{
 "cells": [
  {
   "cell_type": "code",
   "execution_count": null,
   "id": "45b82927",
   "metadata": {},
   "outputs": [],
   "source": [
    "import pandas as pd\n",
    "import matplotlib.pyplot as plt\n",
    "import seaborn as sns"
   ]
  },
  {
   "cell_type": "code",
   "execution_count": null,
   "id": "5b7b67f6",
   "metadata": {},
   "outputs": [],
   "source": [
    "import warnings\n",
    "warnings.filterwarnings(\"ignore\")"
   ]
  },
  {
   "cell_type": "code",
   "execution_count": null,
   "id": "5b561ca4",
   "metadata": {},
   "outputs": [],
   "source": [
    "import matplotlib\n",
    "matplotlib.rcParams[\"axes.unicode_minus\"] = False"
   ]
  },
  {
   "cell_type": "code",
   "execution_count": null,
   "id": "35eaa612",
   "metadata": {},
   "outputs": [],
   "source": [
    "df = pd.read_csv(\"../data/processed/cleaned_AQI.csv\")"
   ]
  },
  {
   "cell_type": "code",
   "execution_count": null,
   "id": "482f89c8",
   "metadata": {},
   "outputs": [],
   "source": [
    "print(df.info())\n",
    "print(df.describe())\n",
    "print(df.head())"
   ]
  },
  {
   "cell_type": "code",
   "execution_count": null,
   "id": "3efac0bc",
   "metadata": {},
   "outputs": [],
   "source": [
    "print(\"\\nMissing values per column:\")\n",
    "print(df.isnull().sum())"
   ]
  },
  {
   "cell_type": "code",
   "execution_count": null,
   "id": "c1492ac7",
   "metadata": {},
   "outputs": [],
   "source": [
    "numeric_df = df.select_dtypes(include=['float64', 'int64'])\n",
    "print(\"\\nNumeric columns for correlation:\", numeric_df.columns.tolist())"
   ]
  },
  {
   "cell_type": "code",
   "execution_count": null,
   "id": "024f726f",
   "metadata": {},
   "outputs": [],
   "source": [
    "corr = numeric_df.corr()"
   ]
  },
  {
   "cell_type": "code",
   "execution_count": null,
   "id": "a457ccce",
   "metadata": {},
   "outputs": [],
   "source": [
    "plt.figure(figsize=(10, 8))\n",
    "sns.heatmap(corr, annot=True, cmap=\"coolwarm\")\n",
    "plt.title(\"Correlation Heatmap\")\n",
    "plt.show()"
   ]
  },
  {
   "cell_type": "code",
   "execution_count": null,
   "id": "823321ac",
   "metadata": {},
   "outputs": [],
   "source": [
    "pollutants = [\"pollutant_min\", \"pollutant_max\", \"pollutant_avg\"]"
   ]
  },
  {
   "cell_type": "code",
   "execution_count": null,
   "id": "8de10463",
   "metadata": {},
   "outputs": [],
   "source": [
    "for pollutant in pollutants:\n",
    "    if pollutant in numeric_df.columns:\n",
    "        plt.figure(figsize=(8, 4))\n",
    "        sns.histplot(df[pollutant].dropna(), kde=True, bins=30)\n",
    "        plt.title(f\"Distribution of {pollutant}\")\n",
    "        plt.show()"
   ]
  },
  {
   "cell_type": "code",
   "execution_count": null,
   "id": "fed05483",
   "metadata": {},
   "outputs": [],
   "source": [
    "if \"last_update\" in df.columns:\n",
    "    try:\n",
    "        df[\"Date\"] = pd.to_datetime(df[\"last_update\"])\n",
    "        if \"pollutant_avg\" in df.columns:\n",
    "            df.set_index(\"Date\").resample(\"ME\")[\"pollutant_avg\"].mean().plot(figsize=(12, 6))\n",
    "            plt.title(\"Monthly Average Pollutant Average\")\n",
    "            plt.ylabel(\"pollutant_avg\")\n",
    "            plt.show()\n",
    "        else:\n",
    "            print(\"Column 'pollutant_avg' not found for time series plot.\")\n",
    "    except Exception as e:\n",
    "        print(f\"Could not parse 'last_update': {e}\")"
   ]
  }
 ],
 "metadata": {
  "kernelspec": {
   "display_name": ".venv",
   "language": "python",
   "name": "python3"
  },
  "language_info": {
   "codemirror_mode": {
    "name": "ipython",
    "version": 3
   },
   "file_extension": ".py",
   "mimetype": "text/x-python",
   "name": "python",
   "nbconvert_exporter": "python",
   "pygments_lexer": "ipython3",
   "version": "3.12.3"
  }
 },
 "nbformat": 4,
 "nbformat_minor": 5
}
